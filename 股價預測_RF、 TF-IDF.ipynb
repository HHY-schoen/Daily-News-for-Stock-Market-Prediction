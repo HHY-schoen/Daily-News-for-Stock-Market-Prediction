{
 "cells": [
  {
   "cell_type": "markdown",
   "id": "e8f3254f",
   "metadata": {},
   "source": [
    "- 資料來源\n",
    "- https://www.kaggle.com/datasets/aaron7sun/stocknews\n",
    "- https://www.kaggle.com/code/samsonlo/simplest-nlp-tutorial-random-forest-naive-bayes "
   ]
  },
  {
   "cell_type": "code",
   "execution_count": 1,
   "id": "e53f3473",
   "metadata": {},
   "outputs": [
    {
     "data": {
      "text/html": [
       "<div>\n",
       "<style scoped>\n",
       "    .dataframe tbody tr th:only-of-type {\n",
       "        vertical-align: middle;\n",
       "    }\n",
       "\n",
       "    .dataframe tbody tr th {\n",
       "        vertical-align: top;\n",
       "    }\n",
       "\n",
       "    .dataframe thead th {\n",
       "        text-align: right;\n",
       "    }\n",
       "</style>\n",
       "<table border=\"1\" class=\"dataframe\">\n",
       "  <thead>\n",
       "    <tr style=\"text-align: right;\">\n",
       "      <th></th>\n",
       "      <th>Date</th>\n",
       "      <th>Label</th>\n",
       "      <th>Top1</th>\n",
       "      <th>Top2</th>\n",
       "      <th>Top3</th>\n",
       "      <th>Top4</th>\n",
       "      <th>Top5</th>\n",
       "      <th>Top6</th>\n",
       "      <th>Top7</th>\n",
       "      <th>Top8</th>\n",
       "      <th>...</th>\n",
       "      <th>Top16</th>\n",
       "      <th>Top17</th>\n",
       "      <th>Top18</th>\n",
       "      <th>Top19</th>\n",
       "      <th>Top20</th>\n",
       "      <th>Top21</th>\n",
       "      <th>Top22</th>\n",
       "      <th>Top23</th>\n",
       "      <th>Top24</th>\n",
       "      <th>Top25</th>\n",
       "    </tr>\n",
       "  </thead>\n",
       "  <tbody>\n",
       "    <tr>\n",
       "      <th>0</th>\n",
       "      <td>2008-08-08</td>\n",
       "      <td>0</td>\n",
       "      <td>b\"Georgia 'downs two Russian warplanes' as cou...</td>\n",
       "      <td>b'BREAKING: Musharraf to be impeached.'</td>\n",
       "      <td>b'Russia Today: Columns of troops roll into So...</td>\n",
       "      <td>b'Russian tanks are moving towards the capital...</td>\n",
       "      <td>b\"Afghan children raped with 'impunity,' U.N. ...</td>\n",
       "      <td>b'150 Russian tanks have entered South Ossetia...</td>\n",
       "      <td>b\"Breaking: Georgia invades South Ossetia, Rus...</td>\n",
       "      <td>b\"The 'enemy combatent' trials are nothing but...</td>\n",
       "      <td>...</td>\n",
       "      <td>b'Georgia Invades South Ossetia - if Russia ge...</td>\n",
       "      <td>b'Al-Qaeda Faces Islamist Backlash'</td>\n",
       "      <td>b'Condoleezza Rice: \"The US would not act to p...</td>\n",
       "      <td>b'This is a busy day:  The European Union has ...</td>\n",
       "      <td>b\"Georgia will withdraw 1,000 soldiers from Ir...</td>\n",
       "      <td>b'Why the Pentagon Thinks Attacking Iran is a ...</td>\n",
       "      <td>b'Caucasus in crisis: Georgia invades South Os...</td>\n",
       "      <td>b'Indian shoe manufactory  - And again in a se...</td>\n",
       "      <td>b'Visitors Suffering from Mental Illnesses Ban...</td>\n",
       "      <td>b\"No Help for Mexico's Kidnapping Surge\"</td>\n",
       "    </tr>\n",
       "    <tr>\n",
       "      <th>1</th>\n",
       "      <td>2008-08-11</td>\n",
       "      <td>1</td>\n",
       "      <td>b'Why wont America and Nato help us? If they w...</td>\n",
       "      <td>b'Bush puts foot down on Georgian conflict'</td>\n",
       "      <td>b\"Jewish Georgian minister: Thanks to Israeli ...</td>\n",
       "      <td>b'Georgian army flees in disarray as Russians ...</td>\n",
       "      <td>b\"Olympic opening ceremony fireworks 'faked'\"</td>\n",
       "      <td>b'What were the Mossad with fraudulent New Zea...</td>\n",
       "      <td>b'Russia angered by Israeli military sale to G...</td>\n",
       "      <td>b'An American citizen living in S.Ossetia blam...</td>\n",
       "      <td>...</td>\n",
       "      <td>b'Israel and the US behind the Georgian aggres...</td>\n",
       "      <td>b'\"Do not believe TV, neither Russian nor Geor...</td>\n",
       "      <td>b'Riots are still going on in Montreal (Canada...</td>\n",
       "      <td>b'China to overtake US as largest manufacturer'</td>\n",
       "      <td>b'War in South Ossetia [PICS]'</td>\n",
       "      <td>b'Israeli Physicians Group Condemns State Tort...</td>\n",
       "      <td>b' Russia has just beaten the United States ov...</td>\n",
       "      <td>b'Perhaps *the* question about the Georgia - R...</td>\n",
       "      <td>b'Russia is so much better at war'</td>\n",
       "      <td>b\"So this is what it's come to: trading sex fo...</td>\n",
       "    </tr>\n",
       "    <tr>\n",
       "      <th>2</th>\n",
       "      <td>2008-08-12</td>\n",
       "      <td>0</td>\n",
       "      <td>b'Remember that adorable 9-year-old who sang a...</td>\n",
       "      <td>b\"Russia 'ends Georgia operation'\"</td>\n",
       "      <td>b'\"If we had no sexual harassment we would hav...</td>\n",
       "      <td>b\"Al-Qa'eda is losing support in Iraq because ...</td>\n",
       "      <td>b'Ceasefire in Georgia: Putin Outmaneuvers the...</td>\n",
       "      <td>b'Why Microsoft and Intel tried to kill the XO...</td>\n",
       "      <td>b'Stratfor: The Russo-Georgian War and the Bal...</td>\n",
       "      <td>b\"I'm Trying to Get a Sense of This Whole Geor...</td>\n",
       "      <td>...</td>\n",
       "      <td>b'U.S. troops still in Georgia (did you know t...</td>\n",
       "      <td>b'Why Russias response to Georgia was right'</td>\n",
       "      <td>b'Gorbachev accuses U.S. of making a \"serious ...</td>\n",
       "      <td>b'Russia, Georgia, and NATO: Cold War Two'</td>\n",
       "      <td>b'Remember that adorable 62-year-old who led y...</td>\n",
       "      <td>b'War in Georgia: The Israeli connection'</td>\n",
       "      <td>b'All signs point to the US encouraging Georgi...</td>\n",
       "      <td>b'Christopher King argues that the US and NATO...</td>\n",
       "      <td>b'America: The New Mexico?'</td>\n",
       "      <td>b\"BBC NEWS | Asia-Pacific | Extinction 'by man...</td>\n",
       "    </tr>\n",
       "  </tbody>\n",
       "</table>\n",
       "<p>3 rows × 27 columns</p>\n",
       "</div>"
      ],
      "text/plain": [
       "         Date  Label                                               Top1  \\\n",
       "0  2008-08-08      0  b\"Georgia 'downs two Russian warplanes' as cou...   \n",
       "1  2008-08-11      1  b'Why wont America and Nato help us? If they w...   \n",
       "2  2008-08-12      0  b'Remember that adorable 9-year-old who sang a...   \n",
       "\n",
       "                                          Top2  \\\n",
       "0      b'BREAKING: Musharraf to be impeached.'   \n",
       "1  b'Bush puts foot down on Georgian conflict'   \n",
       "2           b\"Russia 'ends Georgia operation'\"   \n",
       "\n",
       "                                                Top3  \\\n",
       "0  b'Russia Today: Columns of troops roll into So...   \n",
       "1  b\"Jewish Georgian minister: Thanks to Israeli ...   \n",
       "2  b'\"If we had no sexual harassment we would hav...   \n",
       "\n",
       "                                                Top4  \\\n",
       "0  b'Russian tanks are moving towards the capital...   \n",
       "1  b'Georgian army flees in disarray as Russians ...   \n",
       "2  b\"Al-Qa'eda is losing support in Iraq because ...   \n",
       "\n",
       "                                                Top5  \\\n",
       "0  b\"Afghan children raped with 'impunity,' U.N. ...   \n",
       "1      b\"Olympic opening ceremony fireworks 'faked'\"   \n",
       "2  b'Ceasefire in Georgia: Putin Outmaneuvers the...   \n",
       "\n",
       "                                                Top6  \\\n",
       "0  b'150 Russian tanks have entered South Ossetia...   \n",
       "1  b'What were the Mossad with fraudulent New Zea...   \n",
       "2  b'Why Microsoft and Intel tried to kill the XO...   \n",
       "\n",
       "                                                Top7  \\\n",
       "0  b\"Breaking: Georgia invades South Ossetia, Rus...   \n",
       "1  b'Russia angered by Israeli military sale to G...   \n",
       "2  b'Stratfor: The Russo-Georgian War and the Bal...   \n",
       "\n",
       "                                                Top8  ...  \\\n",
       "0  b\"The 'enemy combatent' trials are nothing but...  ...   \n",
       "1  b'An American citizen living in S.Ossetia blam...  ...   \n",
       "2  b\"I'm Trying to Get a Sense of This Whole Geor...  ...   \n",
       "\n",
       "                                               Top16  \\\n",
       "0  b'Georgia Invades South Ossetia - if Russia ge...   \n",
       "1  b'Israel and the US behind the Georgian aggres...   \n",
       "2  b'U.S. troops still in Georgia (did you know t...   \n",
       "\n",
       "                                               Top17  \\\n",
       "0                b'Al-Qaeda Faces Islamist Backlash'   \n",
       "1  b'\"Do not believe TV, neither Russian nor Geor...   \n",
       "2       b'Why Russias response to Georgia was right'   \n",
       "\n",
       "                                               Top18  \\\n",
       "0  b'Condoleezza Rice: \"The US would not act to p...   \n",
       "1  b'Riots are still going on in Montreal (Canada...   \n",
       "2  b'Gorbachev accuses U.S. of making a \"serious ...   \n",
       "\n",
       "                                               Top19  \\\n",
       "0  b'This is a busy day:  The European Union has ...   \n",
       "1    b'China to overtake US as largest manufacturer'   \n",
       "2         b'Russia, Georgia, and NATO: Cold War Two'   \n",
       "\n",
       "                                               Top20  \\\n",
       "0  b\"Georgia will withdraw 1,000 soldiers from Ir...   \n",
       "1                     b'War in South Ossetia [PICS]'   \n",
       "2  b'Remember that adorable 62-year-old who led y...   \n",
       "\n",
       "                                               Top21  \\\n",
       "0  b'Why the Pentagon Thinks Attacking Iran is a ...   \n",
       "1  b'Israeli Physicians Group Condemns State Tort...   \n",
       "2          b'War in Georgia: The Israeli connection'   \n",
       "\n",
       "                                               Top22  \\\n",
       "0  b'Caucasus in crisis: Georgia invades South Os...   \n",
       "1  b' Russia has just beaten the United States ov...   \n",
       "2  b'All signs point to the US encouraging Georgi...   \n",
       "\n",
       "                                               Top23  \\\n",
       "0  b'Indian shoe manufactory  - And again in a se...   \n",
       "1  b'Perhaps *the* question about the Georgia - R...   \n",
       "2  b'Christopher King argues that the US and NATO...   \n",
       "\n",
       "                                               Top24  \\\n",
       "0  b'Visitors Suffering from Mental Illnesses Ban...   \n",
       "1                 b'Russia is so much better at war'   \n",
       "2                        b'America: The New Mexico?'   \n",
       "\n",
       "                                               Top25  \n",
       "0           b\"No Help for Mexico's Kidnapping Surge\"  \n",
       "1  b\"So this is what it's come to: trading sex fo...  \n",
       "2  b\"BBC NEWS | Asia-Pacific | Extinction 'by man...  \n",
       "\n",
       "[3 rows x 27 columns]"
      ]
     },
     "execution_count": 1,
     "metadata": {},
     "output_type": "execute_result"
    }
   ],
   "source": [
    "import pandas as pd\n",
    "\n",
    "df = pd.read_csv(r\"D:\\中原\\111-1\\Python\\Daily News for Stock Market Prediction\\Combined_News_DJIA.csv\")\n",
    "df.head(3)"
   ]
  },
  {
   "cell_type": "markdown",
   "id": "d9a7be02",
   "metadata": {},
   "source": [
    "- Train-Test Split"
   ]
  },
  {
   "cell_type": "code",
   "execution_count": 2,
   "id": "37688b70",
   "metadata": {},
   "outputs": [],
   "source": [
    "train = df[df['Date'] < '2015-01-01']\n",
    "test = df[df['Date'] > '2014-12-31']"
   ]
  },
  {
   "cell_type": "markdown",
   "id": "d78bf1db",
   "metadata": {},
   "source": [
    "- replace everything apart from a-z and A-Z with blank space and store in-place in the \"data\" variable."
   ]
  },
  {
   "cell_type": "code",
   "execution_count": 3,
   "id": "00b07bc2",
   "metadata": {},
   "outputs": [],
   "source": [
    "# 移除標點符號\n",
    "data = train.iloc[:,2:27]\n",
    "data.replace(\"[^a-zA-Z]\",\" \",regex=True, inplace=True)"
   ]
  },
  {
   "cell_type": "code",
   "execution_count": 4,
   "id": "03307611",
   "metadata": {},
   "outputs": [
    {
     "data": {
      "text/html": [
       "<div>\n",
       "<style scoped>\n",
       "    .dataframe tbody tr th:only-of-type {\n",
       "        vertical-align: middle;\n",
       "    }\n",
       "\n",
       "    .dataframe tbody tr th {\n",
       "        vertical-align: top;\n",
       "    }\n",
       "\n",
       "    .dataframe thead th {\n",
       "        text-align: right;\n",
       "    }\n",
       "</style>\n",
       "<table border=\"1\" class=\"dataframe\">\n",
       "  <thead>\n",
       "    <tr style=\"text-align: right;\">\n",
       "      <th></th>\n",
       "      <th>0</th>\n",
       "      <th>1</th>\n",
       "      <th>2</th>\n",
       "      <th>3</th>\n",
       "      <th>4</th>\n",
       "      <th>5</th>\n",
       "      <th>6</th>\n",
       "      <th>7</th>\n",
       "      <th>8</th>\n",
       "      <th>9</th>\n",
       "      <th>...</th>\n",
       "      <th>15</th>\n",
       "      <th>16</th>\n",
       "      <th>17</th>\n",
       "      <th>18</th>\n",
       "      <th>19</th>\n",
       "      <th>20</th>\n",
       "      <th>21</th>\n",
       "      <th>22</th>\n",
       "      <th>23</th>\n",
       "      <th>24</th>\n",
       "    </tr>\n",
       "  </thead>\n",
       "  <tbody>\n",
       "    <tr>\n",
       "      <th>0</th>\n",
       "      <td>b Georgia  downs two Russian warplanes  as cou...</td>\n",
       "      <td>b BREAKING  Musharraf to be impeached</td>\n",
       "      <td>b Russia Today  Columns of troops roll into So...</td>\n",
       "      <td>b Russian tanks are moving towards the capital...</td>\n",
       "      <td>b Afghan children raped with  impunity   U N  ...</td>\n",
       "      <td>b     Russian tanks have entered South Ossetia...</td>\n",
       "      <td>b Breaking  Georgia invades South Ossetia  Rus...</td>\n",
       "      <td>b The  enemy combatent  trials are nothing but...</td>\n",
       "      <td>b Georgian troops retreat from S  Osettain cap...</td>\n",
       "      <td>b Did the U S  Prep Georgia for War with Russia</td>\n",
       "      <td>...</td>\n",
       "      <td>b Georgia Invades South Ossetia   if Russia ge...</td>\n",
       "      <td>b Al Qaeda Faces Islamist Backlash</td>\n",
       "      <td>b Condoleezza Rice   The US would not act to p...</td>\n",
       "      <td>b This is a busy day   The European Union has ...</td>\n",
       "      <td>b Georgia will withdraw       soldiers from Ir...</td>\n",
       "      <td>b Why the Pentagon Thinks Attacking Iran is a ...</td>\n",
       "      <td>b Caucasus in crisis  Georgia invades South Os...</td>\n",
       "      <td>b Indian shoe manufactory    And again in a se...</td>\n",
       "      <td>b Visitors Suffering from Mental Illnesses Ban...</td>\n",
       "      <td>b No Help for Mexico s Kidnapping Surge</td>\n",
       "    </tr>\n",
       "    <tr>\n",
       "      <th>1</th>\n",
       "      <td>b Why wont America and Nato help us  If they w...</td>\n",
       "      <td>b Bush puts foot down on Georgian conflict</td>\n",
       "      <td>b Jewish Georgian minister  Thanks to Israeli ...</td>\n",
       "      <td>b Georgian army flees in disarray as Russians ...</td>\n",
       "      <td>b Olympic opening ceremony fireworks  faked</td>\n",
       "      <td>b What were the Mossad with fraudulent New Zea...</td>\n",
       "      <td>b Russia angered by Israeli military sale to G...</td>\n",
       "      <td>b An American citizen living in S Ossetia blam...</td>\n",
       "      <td>b Welcome To World War IV  Now In High Definit...</td>\n",
       "      <td>b Georgia s move  a mistake of monumental prop...</td>\n",
       "      <td>...</td>\n",
       "      <td>b Israel and the US behind the Georgian aggres...</td>\n",
       "      <td>b  Do not believe TV  neither Russian nor Geor...</td>\n",
       "      <td>b Riots are still going on in Montreal  Canada...</td>\n",
       "      <td>b China to overtake US as largest manufacturer</td>\n",
       "      <td>b War in South Ossetia  PICS</td>\n",
       "      <td>b Israeli Physicians Group Condemns State Tort...</td>\n",
       "      <td>b  Russia has just beaten the United States ov...</td>\n",
       "      <td>b Perhaps  the  question about the Georgia   R...</td>\n",
       "      <td>b Russia is so much better at war</td>\n",
       "      <td>b So this is what it s come to  trading sex fo...</td>\n",
       "    </tr>\n",
       "    <tr>\n",
       "      <th>2</th>\n",
       "      <td>b Remember that adorable   year old who sang a...</td>\n",
       "      <td>b Russia  ends Georgia operation</td>\n",
       "      <td>b  If we had no sexual harassment we would hav...</td>\n",
       "      <td>b Al Qa eda is losing support in Iraq because ...</td>\n",
       "      <td>b Ceasefire in Georgia  Putin Outmaneuvers the...</td>\n",
       "      <td>b Why Microsoft and Intel tried to kill the XO...</td>\n",
       "      <td>b Stratfor  The Russo Georgian War and the Bal...</td>\n",
       "      <td>b I m Trying to Get a Sense of This Whole Geor...</td>\n",
       "      <td>b The US military was surprised by the timing ...</td>\n",
       "      <td>b U S  Beats War Drum as Iran Dumps the Dollar</td>\n",
       "      <td>...</td>\n",
       "      <td>b U S  troops still in Georgia  did you know t...</td>\n",
       "      <td>b Why Russias response to Georgia was right</td>\n",
       "      <td>b Gorbachev accuses U S  of making a  serious ...</td>\n",
       "      <td>b Russia  Georgia  and NATO  Cold War Two</td>\n",
       "      <td>b Remember that adorable    year old who led y...</td>\n",
       "      <td>b War in Georgia  The Israeli connection</td>\n",
       "      <td>b All signs point to the US encouraging Georgi...</td>\n",
       "      <td>b Christopher King argues that the US and NATO...</td>\n",
       "      <td>b America  The New Mexico</td>\n",
       "      <td>b BBC NEWS   Asia Pacific   Extinction  by man...</td>\n",
       "    </tr>\n",
       "  </tbody>\n",
       "</table>\n",
       "<p>3 rows × 25 columns</p>\n",
       "</div>"
      ],
      "text/plain": [
       "                                                   0  \\\n",
       "0  b Georgia  downs two Russian warplanes  as cou...   \n",
       "1  b Why wont America and Nato help us  If they w...   \n",
       "2  b Remember that adorable   year old who sang a...   \n",
       "\n",
       "                                             1  \\\n",
       "0      b BREAKING  Musharraf to be impeached     \n",
       "1  b Bush puts foot down on Georgian conflict    \n",
       "2           b Russia  ends Georgia operation     \n",
       "\n",
       "                                                   2  \\\n",
       "0  b Russia Today  Columns of troops roll into So...   \n",
       "1  b Jewish Georgian minister  Thanks to Israeli ...   \n",
       "2  b  If we had no sexual harassment we would hav...   \n",
       "\n",
       "                                                   3  \\\n",
       "0  b Russian tanks are moving towards the capital...   \n",
       "1  b Georgian army flees in disarray as Russians ...   \n",
       "2  b Al Qa eda is losing support in Iraq because ...   \n",
       "\n",
       "                                                   4  \\\n",
       "0  b Afghan children raped with  impunity   U N  ...   \n",
       "1      b Olympic opening ceremony fireworks  faked     \n",
       "2  b Ceasefire in Georgia  Putin Outmaneuvers the...   \n",
       "\n",
       "                                                   5  \\\n",
       "0  b     Russian tanks have entered South Ossetia...   \n",
       "1  b What were the Mossad with fraudulent New Zea...   \n",
       "2  b Why Microsoft and Intel tried to kill the XO...   \n",
       "\n",
       "                                                   6  \\\n",
       "0  b Breaking  Georgia invades South Ossetia  Rus...   \n",
       "1  b Russia angered by Israeli military sale to G...   \n",
       "2  b Stratfor  The Russo Georgian War and the Bal...   \n",
       "\n",
       "                                                   7  \\\n",
       "0  b The  enemy combatent  trials are nothing but...   \n",
       "1  b An American citizen living in S Ossetia blam...   \n",
       "2  b I m Trying to Get a Sense of This Whole Geor...   \n",
       "\n",
       "                                                   8  \\\n",
       "0  b Georgian troops retreat from S  Osettain cap...   \n",
       "1  b Welcome To World War IV  Now In High Definit...   \n",
       "2  b The US military was surprised by the timing ...   \n",
       "\n",
       "                                                   9  ...  \\\n",
       "0  b Did the U S  Prep Georgia for War with Russia    ...   \n",
       "1  b Georgia s move  a mistake of monumental prop...  ...   \n",
       "2    b U S  Beats War Drum as Iran Dumps the Dollar   ...   \n",
       "\n",
       "                                                  15  \\\n",
       "0  b Georgia Invades South Ossetia   if Russia ge...   \n",
       "1  b Israel and the US behind the Georgian aggres...   \n",
       "2  b U S  troops still in Georgia  did you know t...   \n",
       "\n",
       "                                                  16  \\\n",
       "0                b Al Qaeda Faces Islamist Backlash    \n",
       "1  b  Do not believe TV  neither Russian nor Geor...   \n",
       "2       b Why Russias response to Georgia was right    \n",
       "\n",
       "                                                  17  \\\n",
       "0  b Condoleezza Rice   The US would not act to p...   \n",
       "1  b Riots are still going on in Montreal  Canada...   \n",
       "2  b Gorbachev accuses U S  of making a  serious ...   \n",
       "\n",
       "                                                  18  \\\n",
       "0  b This is a busy day   The European Union has ...   \n",
       "1    b China to overtake US as largest manufacturer    \n",
       "2         b Russia  Georgia  and NATO  Cold War Two    \n",
       "\n",
       "                                                  19  \\\n",
       "0  b Georgia will withdraw       soldiers from Ir...   \n",
       "1                     b War in South Ossetia  PICS     \n",
       "2  b Remember that adorable    year old who led y...   \n",
       "\n",
       "                                                  20  \\\n",
       "0  b Why the Pentagon Thinks Attacking Iran is a ...   \n",
       "1  b Israeli Physicians Group Condemns State Tort...   \n",
       "2          b War in Georgia  The Israeli connection    \n",
       "\n",
       "                                                  21  \\\n",
       "0  b Caucasus in crisis  Georgia invades South Os...   \n",
       "1  b  Russia has just beaten the United States ov...   \n",
       "2  b All signs point to the US encouraging Georgi...   \n",
       "\n",
       "                                                  22  \\\n",
       "0  b Indian shoe manufactory    And again in a se...   \n",
       "1  b Perhaps  the  question about the Georgia   R...   \n",
       "2  b Christopher King argues that the US and NATO...   \n",
       "\n",
       "                                                  23  \\\n",
       "0  b Visitors Suffering from Mental Illnesses Ban...   \n",
       "1                 b Russia is so much better at war    \n",
       "2                        b America  The New Mexico     \n",
       "\n",
       "                                                  24  \n",
       "0           b No Help for Mexico s Kidnapping Surge   \n",
       "1  b So this is what it s come to  trading sex fo...  \n",
       "2  b BBC NEWS   Asia Pacific   Extinction  by man...  \n",
       "\n",
       "[3 rows x 25 columns]"
      ]
     },
     "execution_count": 4,
     "metadata": {},
     "output_type": "execute_result"
    }
   ],
   "source": [
    "# Renaming column names for ease of access\n",
    "list1= [i for i in range(25)]\n",
    "new_Index=[str(i) for i in list1]\n",
    "data.columns= new_Index\n",
    "data.head(3)"
   ]
  },
  {
   "cell_type": "code",
   "execution_count": 5,
   "id": "cdb1efd2",
   "metadata": {},
   "outputs": [
    {
     "data": {
      "text/html": [
       "<div>\n",
       "<style scoped>\n",
       "    .dataframe tbody tr th:only-of-type {\n",
       "        vertical-align: middle;\n",
       "    }\n",
       "\n",
       "    .dataframe tbody tr th {\n",
       "        vertical-align: top;\n",
       "    }\n",
       "\n",
       "    .dataframe thead th {\n",
       "        text-align: right;\n",
       "    }\n",
       "</style>\n",
       "<table border=\"1\" class=\"dataframe\">\n",
       "  <thead>\n",
       "    <tr style=\"text-align: right;\">\n",
       "      <th></th>\n",
       "      <th>0</th>\n",
       "      <th>1</th>\n",
       "      <th>2</th>\n",
       "      <th>3</th>\n",
       "      <th>4</th>\n",
       "      <th>5</th>\n",
       "      <th>6</th>\n",
       "      <th>7</th>\n",
       "      <th>8</th>\n",
       "      <th>9</th>\n",
       "      <th>...</th>\n",
       "      <th>15</th>\n",
       "      <th>16</th>\n",
       "      <th>17</th>\n",
       "      <th>18</th>\n",
       "      <th>19</th>\n",
       "      <th>20</th>\n",
       "      <th>21</th>\n",
       "      <th>22</th>\n",
       "      <th>23</th>\n",
       "      <th>24</th>\n",
       "    </tr>\n",
       "  </thead>\n",
       "  <tbody>\n",
       "    <tr>\n",
       "      <th>0</th>\n",
       "      <td>b georgia  downs two russian warplanes  as cou...</td>\n",
       "      <td>b breaking  musharraf to be impeached</td>\n",
       "      <td>b russia today  columns of troops roll into so...</td>\n",
       "      <td>b russian tanks are moving towards the capital...</td>\n",
       "      <td>b afghan children raped with  impunity   u n  ...</td>\n",
       "      <td>b     russian tanks have entered south ossetia...</td>\n",
       "      <td>b breaking  georgia invades south ossetia  rus...</td>\n",
       "      <td>b the  enemy combatent  trials are nothing but...</td>\n",
       "      <td>b georgian troops retreat from s  osettain cap...</td>\n",
       "      <td>b did the u s  prep georgia for war with russia</td>\n",
       "      <td>...</td>\n",
       "      <td>b georgia invades south ossetia   if russia ge...</td>\n",
       "      <td>b al qaeda faces islamist backlash</td>\n",
       "      <td>b condoleezza rice   the us would not act to p...</td>\n",
       "      <td>b this is a busy day   the european union has ...</td>\n",
       "      <td>b georgia will withdraw       soldiers from ir...</td>\n",
       "      <td>b why the pentagon thinks attacking iran is a ...</td>\n",
       "      <td>b caucasus in crisis  georgia invades south os...</td>\n",
       "      <td>b indian shoe manufactory    and again in a se...</td>\n",
       "      <td>b visitors suffering from mental illnesses ban...</td>\n",
       "      <td>b no help for mexico s kidnapping surge</td>\n",
       "    </tr>\n",
       "    <tr>\n",
       "      <th>1</th>\n",
       "      <td>b why wont america and nato help us  if they w...</td>\n",
       "      <td>b bush puts foot down on georgian conflict</td>\n",
       "      <td>b jewish georgian minister  thanks to israeli ...</td>\n",
       "      <td>b georgian army flees in disarray as russians ...</td>\n",
       "      <td>b olympic opening ceremony fireworks  faked</td>\n",
       "      <td>b what were the mossad with fraudulent new zea...</td>\n",
       "      <td>b russia angered by israeli military sale to g...</td>\n",
       "      <td>b an american citizen living in s ossetia blam...</td>\n",
       "      <td>b welcome to world war iv  now in high definit...</td>\n",
       "      <td>b georgia s move  a mistake of monumental prop...</td>\n",
       "      <td>...</td>\n",
       "      <td>b israel and the us behind the georgian aggres...</td>\n",
       "      <td>b  do not believe tv  neither russian nor geor...</td>\n",
       "      <td>b riots are still going on in montreal  canada...</td>\n",
       "      <td>b china to overtake us as largest manufacturer</td>\n",
       "      <td>b war in south ossetia  pics</td>\n",
       "      <td>b israeli physicians group condemns state tort...</td>\n",
       "      <td>b  russia has just beaten the united states ov...</td>\n",
       "      <td>b perhaps  the  question about the georgia   r...</td>\n",
       "      <td>b russia is so much better at war</td>\n",
       "      <td>b so this is what it s come to  trading sex fo...</td>\n",
       "    </tr>\n",
       "  </tbody>\n",
       "</table>\n",
       "<p>2 rows × 25 columns</p>\n",
       "</div>"
      ],
      "text/plain": [
       "                                                   0  \\\n",
       "0  b georgia  downs two russian warplanes  as cou...   \n",
       "1  b why wont america and nato help us  if they w...   \n",
       "\n",
       "                                             1  \\\n",
       "0      b breaking  musharraf to be impeached     \n",
       "1  b bush puts foot down on georgian conflict    \n",
       "\n",
       "                                                   2  \\\n",
       "0  b russia today  columns of troops roll into so...   \n",
       "1  b jewish georgian minister  thanks to israeli ...   \n",
       "\n",
       "                                                   3  \\\n",
       "0  b russian tanks are moving towards the capital...   \n",
       "1  b georgian army flees in disarray as russians ...   \n",
       "\n",
       "                                                   4  \\\n",
       "0  b afghan children raped with  impunity   u n  ...   \n",
       "1      b olympic opening ceremony fireworks  faked     \n",
       "\n",
       "                                                   5  \\\n",
       "0  b     russian tanks have entered south ossetia...   \n",
       "1  b what were the mossad with fraudulent new zea...   \n",
       "\n",
       "                                                   6  \\\n",
       "0  b breaking  georgia invades south ossetia  rus...   \n",
       "1  b russia angered by israeli military sale to g...   \n",
       "\n",
       "                                                   7  \\\n",
       "0  b the  enemy combatent  trials are nothing but...   \n",
       "1  b an american citizen living in s ossetia blam...   \n",
       "\n",
       "                                                   8  \\\n",
       "0  b georgian troops retreat from s  osettain cap...   \n",
       "1  b welcome to world war iv  now in high definit...   \n",
       "\n",
       "                                                   9  ...  \\\n",
       "0  b did the u s  prep georgia for war with russia    ...   \n",
       "1  b georgia s move  a mistake of monumental prop...  ...   \n",
       "\n",
       "                                                  15  \\\n",
       "0  b georgia invades south ossetia   if russia ge...   \n",
       "1  b israel and the us behind the georgian aggres...   \n",
       "\n",
       "                                                  16  \\\n",
       "0                b al qaeda faces islamist backlash    \n",
       "1  b  do not believe tv  neither russian nor geor...   \n",
       "\n",
       "                                                  17  \\\n",
       "0  b condoleezza rice   the us would not act to p...   \n",
       "1  b riots are still going on in montreal  canada...   \n",
       "\n",
       "                                                  18  \\\n",
       "0  b this is a busy day   the european union has ...   \n",
       "1    b china to overtake us as largest manufacturer    \n",
       "\n",
       "                                                  19  \\\n",
       "0  b georgia will withdraw       soldiers from ir...   \n",
       "1                     b war in south ossetia  pics     \n",
       "\n",
       "                                                  20  \\\n",
       "0  b why the pentagon thinks attacking iran is a ...   \n",
       "1  b israeli physicians group condemns state tort...   \n",
       "\n",
       "                                                  21  \\\n",
       "0  b caucasus in crisis  georgia invades south os...   \n",
       "1  b  russia has just beaten the united states ov...   \n",
       "\n",
       "                                                  22  \\\n",
       "0  b indian shoe manufactory    and again in a se...   \n",
       "1  b perhaps  the  question about the georgia   r...   \n",
       "\n",
       "                                                  23  \\\n",
       "0  b visitors suffering from mental illnesses ban...   \n",
       "1                 b russia is so much better at war    \n",
       "\n",
       "                                                  24  \n",
       "0           b no help for mexico s kidnapping surge   \n",
       "1  b so this is what it s come to  trading sex fo...  \n",
       "\n",
       "[2 rows x 25 columns]"
      ]
     },
     "execution_count": 5,
     "metadata": {},
     "output_type": "execute_result"
    }
   ],
   "source": [
    "# 將所有字母轉為小寫\n",
    "for i in new_Index:\n",
    "    data[i]=data[i].str.lower()\n",
    "data.head(2)"
   ]
  },
  {
   "cell_type": "markdown",
   "id": "82a86c19",
   "metadata": {},
   "source": [
    "- 將標題組合在一起，並用空格隔開"
   ]
  },
  {
   "cell_type": "code",
   "execution_count": 6,
   "id": "96084cc8",
   "metadata": {},
   "outputs": [],
   "source": [
    "headlines = []\n",
    "for row in range(0,len(data.index)):\n",
    "    headlines.append(' '.join(str(x) for x in data.iloc[row,0:25]))"
   ]
  },
  {
   "cell_type": "code",
   "execution_count": 7,
   "id": "939af3d5",
   "metadata": {},
   "outputs": [
    {
     "data": {
      "text/plain": [
       "'b georgia  downs two russian warplanes  as countries move to brink of war  b breaking  musharraf to be impeached   b russia today  columns of troops roll into south ossetia  footage from fighting  youtube   b russian tanks are moving towards the capital of south ossetia  which has reportedly been completely destroyed by georgian artillery fire  b afghan children raped with  impunity   u n  official says   this is sick  a three year old was raped and they do nothing  b     russian tanks have entered south ossetia whilst georgia shoots down two russian jets   b breaking  georgia invades south ossetia  russia warned it would intervene on so s side  b the  enemy combatent  trials are nothing but a sham  salim haman has been sentenced to       years  but will be kept longer anyway just because they feel like it   b georgian troops retreat from s  osettain capital  presumably leaving several hundred people killed   video   b did the u s  prep georgia for war with russia   b rice gives green light for israel to attack iran  says u s  has no veto over israeli military ops  b announcing class action lawsuit on behalf of american public against the fbi  b so   russia and georgia are at war and the nyt s top story is opening ceremonies of the olympics   what a fucking disgrace and yet further proof of the decline of journalism   b china tells bush to stay out of other countries  affairs  b did world war iii start today   b georgia invades south ossetia   if russia gets involved  will nato absorb georgia and unleash a full scale war   b al qaeda faces islamist backlash  b condoleezza rice   the us would not act to prevent an israeli strike on iran   israeli defense minister ehud barak   israel is prepared for uncompromising victory in the case of military hostilities    b this is a busy day   the european union has approved new sanctions against iran in protest at its nuclear programme   b georgia will withdraw       soldiers from iraq to help fight off russian forces in georgia s breakaway region of south ossetia  b why the pentagon thinks attacking iran is a bad idea   us news  amp  world report  b caucasus in crisis  georgia invades south ossetia  b indian shoe manufactory    and again in a series of  you do not like your work    b visitors suffering from mental illnesses banned from olympics  b no help for mexico s kidnapping surge '"
      ]
     },
     "execution_count": 7,
     "metadata": {},
     "output_type": "execute_result"
    }
   ],
   "source": [
    "headlines[0]"
   ]
  },
  {
   "cell_type": "markdown",
   "id": "0b343138",
   "metadata": {},
   "source": [
    "- 詞頻計算"
   ]
  },
  {
   "cell_type": "code",
   "execution_count": 8,
   "id": "ee86da17",
   "metadata": {},
   "outputs": [],
   "source": [
    "from sklearn.feature_extraction.text import CountVectorizer\n",
    "\n",
    "# implement BAG OF WORDS\n",
    "countvector = CountVectorizer(ngram_range=(2,2))\n",
    "traindataset = countvector.fit_transform(headlines)"
   ]
  },
  {
   "cell_type": "code",
   "execution_count": 9,
   "id": "877b38b7",
   "metadata": {},
   "outputs": [
    {
     "data": {
      "text/plain": [
       "<1611x357739 sparse matrix of type '<class 'numpy.int64'>'\n",
       "\twith 664525 stored elements in Compressed Sparse Row format>"
      ]
     },
     "execution_count": 9,
     "metadata": {},
     "output_type": "execute_result"
    }
   ],
   "source": [
    "traindataset"
   ]
  },
  {
   "cell_type": "markdown",
   "id": "27826961",
   "metadata": {},
   "source": [
    "# RandomForest"
   ]
  },
  {
   "cell_type": "code",
   "execution_count": 10,
   "id": "7e9220e5",
   "metadata": {},
   "outputs": [
    {
     "data": {
      "text/plain": [
       "RandomForestClassifier(criterion='entropy', n_estimators=200)"
      ]
     },
     "execution_count": 10,
     "metadata": {},
     "output_type": "execute_result"
    }
   ],
   "source": [
    "from sklearn.ensemble import RandomForestClassifier\n",
    "\n",
    "# n_estimators: 樹的數量，crierion: entrophy/ gini\n",
    "randomclassifier = RandomForestClassifier(n_estimators=200, criterion='entropy')\n",
    "randomclassifier.fit(traindataset, train['Label'])\n",
    "# forest_fit = forest.fit(train_X, train_y)"
   ]
  },
  {
   "cell_type": "markdown",
   "id": "21a568ca",
   "metadata": {},
   "source": [
    "- 對測試集作相同處理"
   ]
  },
  {
   "cell_type": "code",
   "execution_count": 11,
   "id": "1e0739f3",
   "metadata": {},
   "outputs": [],
   "source": [
    "test_transform = []\n",
    "for row in range(0,len(test.index)):\n",
    "    test_transform.append(' '.join(str(x) for x in test.iloc[row,2:27]))\n",
    "test_dataset = countvector.transform(test_transform)\n",
    "predictions = randomclassifier.predict(test_dataset)"
   ]
  },
  {
   "cell_type": "code",
   "execution_count": 12,
   "id": "e258a9a5",
   "metadata": {},
   "outputs": [],
   "source": [
    "# help(RandomForestClassifier)"
   ]
  },
  {
   "cell_type": "markdown",
   "id": "924eb4dc",
   "metadata": {},
   "source": [
    "- confusion matrix\n",
    "- Accuracy > F1 Score"
   ]
  },
  {
   "cell_type": "code",
   "execution_count": 13,
   "id": "f742e799",
   "metadata": {},
   "outputs": [
    {
     "name": "stdout",
     "output_type": "stream",
     "text": [
      "[[  3 183]\n",
      " [  0 192]]\n",
      "0.5158730158730159\n",
      "              precision    recall  f1-score   support\n",
      "\n",
      "           0       1.00      0.02      0.03       186\n",
      "           1       0.51      1.00      0.68       192\n",
      "\n",
      "    accuracy                           0.52       378\n",
      "   macro avg       0.76      0.51      0.35       378\n",
      "weighted avg       0.75      0.52      0.36       378\n",
      "\n"
     ]
    }
   ],
   "source": [
    "from sklearn.metrics import classification_report,confusion_matrix,accuracy_score\n",
    "\n",
    "matrix = confusion_matrix(test['Label'], predictions)\n",
    "print(matrix)\n",
    "score = accuracy_score(test['Label'], predictions)\n",
    "print(score)\n",
    "report = classification_report(test['Label'], predictions)\n",
    "print(report)"
   ]
  },
  {
   "cell_type": "markdown",
   "id": "69a306ed",
   "metadata": {},
   "source": [
    "在 CountVectorizer 中，只計算一個詞在文檔中出現的次數，這會導致偏向於最頻繁出現的詞。 這最終會忽略可能有助於更有效地處理我們的數據的稀有詞。"
   ]
  },
  {
   "cell_type": "markdown",
   "id": "78b02339",
   "metadata": {},
   "source": [
    "# TF-IDF\n",
    "- Term Frequency Inverse Document Frequency"
   ]
  },
  {
   "cell_type": "markdown",
   "id": "634774f4",
   "metadata": {},
   "source": [
    "## Random Forest + TF-IDF"
   ]
  },
  {
   "cell_type": "code",
   "execution_count": 16,
   "id": "7bc746e3",
   "metadata": {},
   "outputs": [],
   "source": [
    "from sklearn.feature_extraction.text import TfidfVectorizer\n",
    "\n",
    "# implement BAG OF WORDS\n",
    "tfidfvector = TfidfVectorizer(ngram_range=(2,2))\n",
    "traindataset = tfidfvector.fit_transform(headlines) "
   ]
  },
  {
   "cell_type": "code",
   "execution_count": 17,
   "id": "240abbd0",
   "metadata": {},
   "outputs": [
    {
     "data": {
      "text/plain": [
       "RandomForestClassifier(criterion='entropy', n_estimators=200)"
      ]
     },
     "execution_count": 17,
     "metadata": {},
     "output_type": "execute_result"
    }
   ],
   "source": [
    "# RandomForest Classifier\n",
    "randomclassifier=  RandomForestClassifier(n_estimators=200, criterion='entropy')\n",
    "randomclassifier.fit(traindataset, train['Label'])"
   ]
  },
  {
   "cell_type": "code",
   "execution_count": 18,
   "id": "844912fd",
   "metadata": {},
   "outputs": [],
   "source": [
    "# Predict for the Test Dataset\n",
    "test_transform = []\n",
    "for row in range(0,len(test.index)):\n",
    "    test_transform.append(' '.join(str(x) for x in test.iloc[row,2:27]))\n",
    "test_dataset = tfidfvector.transform(test_transform)\n",
    "predictions = randomclassifier.predict(test_dataset)"
   ]
  },
  {
   "cell_type": "code",
   "execution_count": 25,
   "id": "331ebf71",
   "metadata": {},
   "outputs": [
    {
     "name": "stdout",
     "output_type": "stream",
     "text": [
      "[[  0 186]\n",
      " [  0 192]]\n",
      "0.5079365079365079\n",
      "              precision    recall  f1-score   support\n",
      "\n",
      "           0       0.00      0.00      0.00       186\n",
      "           1       0.51      1.00      0.67       192\n",
      "\n",
      "    accuracy                           0.51       378\n",
      "   macro avg       0.25      0.50      0.34       378\n",
      "weighted avg       0.26      0.51      0.34       378\n",
      "\n"
     ]
    },
    {
     "name": "stderr",
     "output_type": "stream",
     "text": [
      "D:\\Anaconda\\lib\\site-packages\\sklearn\\metrics\\_classification.py:1248: UndefinedMetricWarning: Precision and F-score are ill-defined and being set to 0.0 in labels with no predicted samples. Use `zero_division` parameter to control this behavior.\n",
      "  _warn_prf(average, modifier, msg_start, len(result))\n",
      "D:\\Anaconda\\lib\\site-packages\\sklearn\\metrics\\_classification.py:1248: UndefinedMetricWarning: Precision and F-score are ill-defined and being set to 0.0 in labels with no predicted samples. Use `zero_division` parameter to control this behavior.\n",
      "  _warn_prf(average, modifier, msg_start, len(result))\n",
      "D:\\Anaconda\\lib\\site-packages\\sklearn\\metrics\\_classification.py:1248: UndefinedMetricWarning: Precision and F-score are ill-defined and being set to 0.0 in labels with no predicted samples. Use `zero_division` parameter to control this behavior.\n",
      "  _warn_prf(average, modifier, msg_start, len(result))\n"
     ]
    }
   ],
   "source": [
    "matrix=confusion_matrix(test['Label'],predictions)\n",
    "print(matrix)\n",
    "score = accuracy_score(test['Label'],predictions)\n",
    "print(score)\n",
    "report = classification_report(test['Label'],predictions)\n",
    "print(report)"
   ]
  },
  {
   "cell_type": "markdown",
   "id": "015da7e0",
   "metadata": {},
   "source": [
    "## Naive Bayes"
   ]
  },
  {
   "cell_type": "code",
   "execution_count": 22,
   "id": "ce172bce",
   "metadata": {},
   "outputs": [
    {
     "data": {
      "text/plain": [
       "MultinomialNB()"
      ]
     },
     "execution_count": 22,
     "metadata": {},
     "output_type": "execute_result"
    }
   ],
   "source": [
    "from sklearn.naive_bayes import MultinomialNB\n",
    "\n",
    "naive = MultinomialNB()\n",
    "naive.fit(traindataset,train['Label'])"
   ]
  },
  {
   "cell_type": "code",
   "execution_count": 23,
   "id": "2e974a3d",
   "metadata": {},
   "outputs": [],
   "source": [
    "# Test Dataset\n",
    "test_transform= []\n",
    "for row in range(0,len(test.index)):\n",
    "    test_transform.append(' '.join(str(x) for x in test.iloc[row,2:27]))\n",
    "test_dataset = tfidfvector.transform(test_transform)\n",
    "predictions = naive.predict(test_dataset)"
   ]
  },
  {
   "cell_type": "markdown",
   "id": "94c551f5",
   "metadata": {},
   "source": [
    "## NB + TF-IDF"
   ]
  },
  {
   "cell_type": "code",
   "execution_count": 24,
   "id": "6c1141f0",
   "metadata": {},
   "outputs": [
    {
     "name": "stdout",
     "output_type": "stream",
     "text": [
      "[[  0 186]\n",
      " [  0 192]]\n",
      "0.5079365079365079\n",
      "              precision    recall  f1-score   support\n",
      "\n",
      "           0       0.00      0.00      0.00       186\n",
      "           1       0.51      1.00      0.67       192\n",
      "\n",
      "    accuracy                           0.51       378\n",
      "   macro avg       0.25      0.50      0.34       378\n",
      "weighted avg       0.26      0.51      0.34       378\n",
      "\n"
     ]
    },
    {
     "name": "stderr",
     "output_type": "stream",
     "text": [
      "D:\\Anaconda\\lib\\site-packages\\sklearn\\metrics\\_classification.py:1248: UndefinedMetricWarning: Precision and F-score are ill-defined and being set to 0.0 in labels with no predicted samples. Use `zero_division` parameter to control this behavior.\n",
      "  _warn_prf(average, modifier, msg_start, len(result))\n",
      "D:\\Anaconda\\lib\\site-packages\\sklearn\\metrics\\_classification.py:1248: UndefinedMetricWarning: Precision and F-score are ill-defined and being set to 0.0 in labels with no predicted samples. Use `zero_division` parameter to control this behavior.\n",
      "  _warn_prf(average, modifier, msg_start, len(result))\n",
      "D:\\Anaconda\\lib\\site-packages\\sklearn\\metrics\\_classification.py:1248: UndefinedMetricWarning: Precision and F-score are ill-defined and being set to 0.0 in labels with no predicted samples. Use `zero_division` parameter to control this behavior.\n",
      "  _warn_prf(average, modifier, msg_start, len(result))\n"
     ]
    }
   ],
   "source": [
    "matrix = confusion_matrix(test['Label'],predictions)\n",
    "print(matrix)\n",
    "score = accuracy_score(test['Label'],predictions)\n",
    "print(score)\n",
    "report = classification_report(test['Label'],predictions)\n",
    "print(report)"
   ]
  },
  {
   "cell_type": "code",
   "execution_count": 15,
   "id": "98ee785e",
   "metadata": {},
   "outputs": [],
   "source": []
  },
  {
   "cell_type": "code",
   "execution_count": null,
   "id": "ad45465d",
   "metadata": {},
   "outputs": [],
   "source": []
  }
 ],
 "metadata": {
  "kernelspec": {
   "display_name": "Python [conda env:py3]",
   "language": "python",
   "name": "py3"
  },
  "language_info": {
   "codemirror_mode": {
    "name": "ipython",
    "version": 3
   },
   "file_extension": ".py",
   "mimetype": "text/x-python",
   "name": "python",
   "nbconvert_exporter": "python",
   "pygments_lexer": "ipython3",
   "version": "3.9.7"
  }
 },
 "nbformat": 4,
 "nbformat_minor": 5
}
